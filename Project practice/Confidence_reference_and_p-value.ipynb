{
 "cells": [
  {
   "cell_type": "markdown",
   "metadata": {},
   "source": [
    "### Calculate confidence interval"
   ]
  },
  {
   "cell_type": "code",
   "execution_count": 1,
   "metadata": {},
   "outputs": [],
   "source": [
    "import numpy as np\n",
    "from scipy.stats import norm\n",
    "import matplotlib.pyplot as plt"
   ]
  },
  {
   "cell_type": "code",
   "execution_count": 3,
   "metadata": {},
   "outputs": [],
   "source": [
    "# generate a sequence, arange(-5,5), interval is 0.01\n",
    "x = np.arange(-5, 5, 0.01)"
   ]
  },
  {
   "cell_type": "code",
   "execution_count": 27,
   "metadata": {},
   "outputs": [
    {
     "data": {
      "text/plain": [
       "2.8867499025720336"
      ]
     },
     "execution_count": 27,
     "metadata": {},
     "output_type": "execute_result"
    }
   ],
   "source": [
    "x = np.arange(-5, 5, 0.01)\n",
    "x.std()"
   ]
  },
  {
   "cell_type": "code",
   "execution_count": 5,
   "metadata": {},
   "outputs": [],
   "source": [
    "# calculate the probability of each x value in standard normal distribution\n",
    "y = norm.pdf(x)"
   ]
  },
  {
   "cell_type": "code",
   "execution_count": 6,
   "metadata": {},
   "outputs": [
    {
     "data": {
      "image/png": "[encoded data removed]",
      "text/plain": [
       "<Figure size 432x288 with 1 Axes>"
      ]
     },
     "metadata": {
      "needs_background": "light"
     },
     "output_type": "display_data"
    }
   ],
   "source": [
    "plt.plot(x, y)\n",
    "plt.show()"
   ]
  },
  {
   "cell_type": "code",
   "execution_count": 14,
   "metadata": {},
   "outputs": [
    {
     "name": "stdout",
     "output_type": "stream",
     "text": [
      "-1.959963984540054 1.959963984540054\n"
     ]
    }
   ],
   "source": [
    "# calculate confidence interval of 95%\n",
    "config = 0.95\n",
    "tail = (1-config)/2 \n",
    "left_edge = norm.ppf(tail) # get the point value of 2.5% (one tail)\n",
    "right_edge = norm.ppf(1-(1-config)/2)\n",
    "print(left_edge, right_edge)"
   ]
  },
  {
   "cell_type": "code",
   "execution_count": 17,
   "metadata": {},
   "outputs": [
    {
     "name": "stdout",
     "output_type": "stream",
     "text": [
      "confidence interval: [-1.959964, 1.959964]\n"
     ]
    },
    {
     "data": {
      "image/png": "[encoded data removed]",
      "text/plain": [
       "<Figure size 432x288 with 1 Axes>"
      ]
     },
     "metadata": {
      "needs_background": "light"
     },
     "output_type": "display_data"
    }
   ],
   "source": [
    "plt.plot(x, y)\n",
    "# plt.show() remove plt.show, if you want all lines are in the same plot\n",
    "plt.axvline(0) # vertical line x=0\n",
    "plt.axvline(left_edge) # left tail: vertical line x=left_edge\n",
    "plt.axvline(right_edge) # right tail: vertical line x=right_edge\n",
    "plt.axhline(norm.pdf(edge)) # horizontal line\n",
    "print(\"confidence interval: [%f, %f]\" %(left_edge, right_edge)) # %f means float, %d is integer"
   ]
  },
  {
   "cell_type": "markdown",
   "metadata": {},
   "source": [
    "### Calculate p-value"
   ]
  },
  {
   "cell_type": "code",
   "execution_count": 21,
   "metadata": {},
   "outputs": [
    {
     "name": "stdout",
     "output_type": "stream",
     "text": [
      "0.022750131948179195\n"
     ]
    }
   ],
   "source": [
    "# calculate p-value of left tail\n",
    "x = -2\n",
    "p = norm.cdf(x)\n",
    "print(p)"
   ]
  },
  {
   "cell_type": "code",
   "execution_count": 22,
   "metadata": {},
   "outputs": [
    {
     "name": "stdout",
     "output_type": "stream",
     "text": [
      "0.02275013194817921\n"
     ]
    }
   ],
   "source": [
    "# p-value of right tail\n",
    "x = 2\n",
    "p = 1 - norm.cdf(x)\n",
    "print(p)"
   ]
  },
  {
   "cell_type": "code",
   "execution_count": 23,
   "metadata": {},
   "outputs": [
    {
     "name": "stdout",
     "output_type": "stream",
     "text": [
      "0.04550026389635842\n"
     ]
    }
   ],
   "source": [
    "# calculate p-value of double tail\n",
    "x = 2\n",
    "p = 2*(1-norm.cdf(x))\n",
    "print(p)"
   ]
  },
  {
   "cell_type": "markdown",
   "metadata": {},
   "source": [
    "## Project: Hypothesis test\n",
    "### One company produces wheels, the diameter of wheel is 5cm, the standard deviation is 1cm, assume the diameter of wheels is normal distribution. Recently the company produce some wheels, sampling 20 wheels, the diameter of these 20 wheels are shown below. How can we say the average diameter of these sample wheels is 5cm?"
   ]
  },
  {
   "cell_type": "code",
   "execution_count": 30,
   "metadata": {},
   "outputs": [],
   "source": [
    "import numpy as np;\n",
    "from scipy.stats import norm"
   ]
  },
  {
   "cell_type": "markdown",
   "metadata": {},
   "source": [
    "#### H0: the average of wheel is 5cm \n",
    "#### H1: the average of wheel is not 5cm"
   ]
  },
  {
   "cell_type": "code",
   "execution_count": 32,
   "metadata": {},
   "outputs": [
    {
     "name": "stdout",
     "output_type": "stream",
     "text": [
      "5.1265\n"
     ]
    }
   ],
   "source": [
    "# the diameter of 20 wheels\n",
    "x = [4.89,5.99,5.89,6.22,4.79,\n",
    "       5.47,4.5,6.61,4.25,6.67,\n",
    "       4.46,4.5,6.97,5.39,4.56,\n",
    "       5.03,2.54,5.27,4.48,4.05\n",
    "]\n",
    "\n",
    "mean_x = numpy.mean(x)\n",
    "print(mean_x)"
   ]
  },
  {
   "cell_type": "code",
   "execution_count": 34,
   "metadata": {},
   "outputs": [
    {
     "name": "stdout",
     "output_type": "stream",
     "text": [
      "5 0.22360679774997896\n"
     ]
    }
   ],
   "source": [
    "# mean of wheels in population is 5, standard deviation is 1\n",
    "u0 = 5\n",
    "se = 1\n",
    "# according to central limit theorem, mean of sampling should be u0, \n",
    "# the standard deviation of sampling mean is se/sqrt(len(x))\n",
    "sample_mean = u0 = 5\n",
    "sample_std = se/numpy.sqrt(len(x))\n",
    "print(sample_mean, sample_std)"
   ]
  },
  {
   "cell_type": "markdown",
   "metadata": {},
   "source": [
    "#### Question: Is mean_x in the confidence inference (95% level) (sample_mean=5, sample_std=0.2236)"
   ]
  },
  {
   "cell_type": "code",
   "execution_count": 35,
   "metadata": {},
   "outputs": [
    {
     "name": "stdout",
     "output_type": "stream",
     "text": [
      "0.565725198307447\n"
     ]
    }
   ],
   "source": [
    "# standardization of mean_x\n",
    "z = (mean_x - sample_mean)/sample_std\n",
    "print(z)"
   ]
  },
  {
   "cell_type": "code",
   "execution_count": 36,
   "metadata": {},
   "outputs": [
    {
     "name": "stdout",
     "output_type": "stream",
     "text": [
      "-1.959963984540054 1.959963984540054\n"
     ]
    }
   ],
   "source": [
    "# Calculate the confidence inference in 95% level (from knowledge, it is [-1.96, 1.96])\n",
    "config = 0.95\n",
    "left_tail = norm.ppf((1-config)/2)\n",
    "right_tail = norm.ppf(1-(1-config)/2)\n",
    "print(left_tail, right_tail)"
   ]
  },
  {
   "cell_type": "markdown",
   "metadata": {},
   "source": [
    "#### Because z=0.5657, which is in the region [-1.95996, 1.95996], so we cannot refuse H0, we can say the average of wheels is 5cm"
   ]
  },
  {
   "cell_type": "code",
   "execution_count": 38,
   "metadata": {},
   "outputs": [
    {
     "name": "stdout",
     "output_type": "stream",
     "text": [
      "0.5715806028591985\n"
     ]
    }
   ],
   "source": [
    "# we can also calculate p-value\n",
    "p = 2*(1-norm.cdf(z))\n",
    "print(p) "
   ]
  },
  {
   "cell_type": "markdown",
   "metadata": {},
   "source": [
    "#### Because p-value is bigger than 0.05, so we cannot refuse H0, we can say the average of wheels is 5cm"
   ]
  },
  {
   "cell_type": "code",
   "execution_count": 40,
   "metadata": {},
   "outputs": [
    {
     "name": "stdout",
     "output_type": "stream",
     "text": [
      "-0.5244005127080409 0.5244005127080407\n"
     ]
    }
   ],
   "source": [
    "# calculate the confidence inference in 40% level, the region will be much smaller than in 95% level\n",
    "config = 0.40\n",
    "left_tail = norm.ppf((1-config)/2)\n",
    "right_tail = norm.ppf(1-(1-config)/2)\n",
    "print(left_tail, right_tail)"
   ]
  }
 ],
 "metadata": {
  "kernelspec": {
   "display_name": "Python 3",
   "language": "python",
   "name": "python3"
  },
  "language_info": {
   "codemirror_mode": {
    "name": "ipython",
    "version": 3
   },
   "file_extension": ".py",
   "mimetype": "text/x-python",
   "name": "python",
   "nbconvert_exporter": "python",
   "pygments_lexer": "ipython3",
   "version": "3.7.1"
  }
 },
 "nbformat": 4,
 "nbformat_minor": 2
}
