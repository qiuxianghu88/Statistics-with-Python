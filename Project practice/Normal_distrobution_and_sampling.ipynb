{
 "cells": [
  {
   "cell_type": "markdown",
   "metadata": {},
   "source": [
    "### Project 1:\n",
    "#### Brand A and Brand B are similar, and they has the same original price,  on black friday, the price of Brand A is 65, and the price of Brand B is 42, does B has bigger discount than A?\n",
    "#### Answer: the price of A and B before black friday is always changed, we cannot say which one has bigger discount until we calculate z score (standardize number)"
   ]
  },
  {
   "cell_type": "code",
   "execution_count": 1,
   "metadata": {},
   "outputs": [],
   "source": [
    "import pandas as pd"
   ]
  },
  {
   "cell_type": "code",
   "execution_count": 2,
   "metadata": {},
   "outputs": [],
   "source": [
    "dataA = pd.read_csv(\"A.csv\")\n",
    "dataB = pd.read_csv(\"B.csv\")"
   ]
  },
  {
   "cell_type": "code",
   "execution_count": 3,
   "metadata": {},
   "outputs": [
    {
     "data": {
      "text/html": [
       "<div>\n",
       "<style scoped>\n",
       "    .dataframe tbody tr th:only-of-type {\n",
       "        vertical-align: middle;\n",
       "    }\n",
       "\n",
       "    .dataframe tbody tr th {\n",
       "        vertical-align: top;\n",
       "    }\n",
       "\n",
       "    .dataframe thead th {\n",
       "        text-align: right;\n",
       "    }\n",
       "</style>\n",
       "<table border=\"1\" class=\"dataframe\">\n",
       "  <thead>\n",
       "    <tr style=\"text-align: right;\">\n",
       "      <th></th>\n",
       "      <th>x</th>\n",
       "    </tr>\n",
       "  </thead>\n",
       "  <tbody>\n",
       "    <tr>\n",
       "      <th>0</th>\n",
       "      <td>41</td>\n",
       "    </tr>\n",
       "    <tr>\n",
       "      <th>1</th>\n",
       "      <td>73</td>\n",
       "    </tr>\n",
       "  </tbody>\n",
       "</table>\n",
       "</div>"
      ],
      "text/plain": [
       "    x\n",
       "0  41\n",
       "1  73"
      ]
     },
     "execution_count": 3,
     "metadata": {},
     "output_type": "execute_result"
    }
   ],
   "source": [
    "dataA.head(2)"
   ]
  },
  {
   "cell_type": "code",
   "execution_count": 4,
   "metadata": {},
   "outputs": [
    {
     "data": {
      "text/html": [
       "<div>\n",
       "<style scoped>\n",
       "    .dataframe tbody tr th:only-of-type {\n",
       "        vertical-align: middle;\n",
       "    }\n",
       "\n",
       "    .dataframe tbody tr th {\n",
       "        vertical-align: top;\n",
       "    }\n",
       "\n",
       "    .dataframe thead th {\n",
       "        text-align: right;\n",
       "    }\n",
       "</style>\n",
       "<table border=\"1\" class=\"dataframe\">\n",
       "  <thead>\n",
       "    <tr style=\"text-align: right;\">\n",
       "      <th></th>\n",
       "      <th>x</th>\n",
       "    </tr>\n",
       "  </thead>\n",
       "  <tbody>\n",
       "    <tr>\n",
       "      <th>0</th>\n",
       "      <td>44</td>\n",
       "    </tr>\n",
       "    <tr>\n",
       "      <th>1</th>\n",
       "      <td>31</td>\n",
       "    </tr>\n",
       "  </tbody>\n",
       "</table>\n",
       "</div>"
      ],
      "text/plain": [
       "    x\n",
       "0  44\n",
       "1  31"
      ]
     },
     "execution_count": 4,
     "metadata": {},
     "output_type": "execute_result"
    }
   ],
   "source": [
    "dataB.head(2)"
   ]
  },
  {
   "cell_type": "code",
   "execution_count": 6,
   "metadata": {},
   "outputs": [],
   "source": [
    "# calculate mean\n",
    "meanA = dataA.mean()\n",
    "meanB = dataB.mean()\n",
    "# calculate standard deviation\n",
    "stdA = dataA.std()\n",
    "stdB = dataB.std()"
   ]
  },
  {
   "cell_type": "code",
   "execution_count": 9,
   "metadata": {},
   "outputs": [
    {
     "name": "stdout",
     "output_type": "stream",
     "text": [
      "x    0.497948\n",
      "dtype: float64 x    1.081844\n",
      "dtype: float64\n"
     ]
    }
   ],
   "source": [
    "# calculate z score\n",
    "zA = (65 - meanA)/stdA\n",
    "zB = (42 - meanB)/stdB\n",
    "\n",
    "print(zA, zB)"
   ]
  },
  {
   "cell_type": "markdown",
   "metadata": {},
   "source": [
    "#### We can see zB is bigger than zA, so B has bigger discount than A"
   ]
  },
  {
   "cell_type": "markdown",
   "metadata": {},
   "source": [
    "## Normal distribution"
   ]
  },
  {
   "cell_type": "code",
   "execution_count": 10,
   "metadata": {},
   "outputs": [],
   "source": [
    "import numpy as np\n",
    "import pandas as pd\n",
    "import matplotlib.pyplot as plt"
   ]
  },
  {
   "cell_type": "code",
   "execution_count": 11,
   "metadata": {},
   "outputs": [
    {
     "data": {
      "text/html": [
       "<div>\n",
       "<style scoped>\n",
       "    .dataframe tbody tr th:only-of-type {\n",
       "        vertical-align: middle;\n",
       "    }\n",
       "\n",
       "    .dataframe tbody tr th {\n",
       "        vertical-align: top;\n",
       "    }\n",
       "\n",
       "    .dataframe thead th {\n",
       "        text-align: right;\n",
       "    }\n",
       "</style>\n",
       "<table border=\"1\" class=\"dataframe\">\n",
       "  <thead>\n",
       "    <tr style=\"text-align: right;\">\n",
       "      <th></th>\n",
       "      <th>x</th>\n",
       "    </tr>\n",
       "  </thead>\n",
       "  <tbody>\n",
       "    <tr>\n",
       "      <th>0</th>\n",
       "      <td>62</td>\n",
       "    </tr>\n",
       "    <tr>\n",
       "      <th>1</th>\n",
       "      <td>33</td>\n",
       "    </tr>\n",
       "    <tr>\n",
       "      <th>2</th>\n",
       "      <td>41</td>\n",
       "    </tr>\n",
       "  </tbody>\n",
       "</table>\n",
       "</div>"
      ],
      "text/plain": [
       "    x\n",
       "0  62\n",
       "1  33\n",
       "2  41"
      ]
     },
     "execution_count": 11,
     "metadata": {},
     "output_type": "execute_result"
    }
   ],
   "source": [
    "# the data is the time of turn on computer\n",
    "data = pd.read_csv(\"data3.csv\")\n",
    "data.head(3)"
   ]
  },
  {
   "cell_type": "code",
   "execution_count": 15,
   "metadata": {},
   "outputs": [
    {
     "data": {
      "image/png": "[encoded data removed]",
      "text/plain": [
       "<Figure size 432x288 with 1 Axes>"
      ]
     },
     "metadata": {
      "needs_background": "light"
     },
     "output_type": "display_data"
    }
   ],
   "source": [
    "plt.hist(data[\"x\"], bins=20)\n",
    "plt.show()"
   ]
  },
  {
   "cell_type": "markdown",
   "metadata": {},
   "source": [
    "#### Generate a normal distribution number with size 1000"
   ]
  },
  {
   "cell_type": "code",
   "execution_count": 16,
   "metadata": {},
   "outputs": [
    {
     "data": {
      "image/png": "[encoded data removed]",
      "text/plain": [
       "<Figure size 432x288 with 1 Axes>"
      ]
     },
     "metadata": {
      "needs_background": "light"
     },
     "output_type": "display_data"
    }
   ],
   "source": [
    "# Two parameters (mean and standard deviation) are needed to generate a normal distribution\n",
    "ztData = np.random.normal(data.mean(), data.std(), 1000)\n",
    "\n",
    "plt.hist(ztData, bins=20)\n",
    "plt.show()"
   ]
  },
  {
   "cell_type": "markdown",
   "metadata": {},
   "source": [
    "## Normal distribution check"
   ]
  },
  {
   "cell_type": "code",
   "execution_count": 17,
   "metadata": {},
   "outputs": [],
   "source": [
    "import numpy as np\n",
    "import pandas as pd\n",
    "import pylab\n",
    "import scipy.stats as stats"
   ]
  },
  {
   "cell_type": "code",
   "execution_count": 18,
   "metadata": {},
   "outputs": [],
   "source": [
    "data = pd.read_csv(\"data3.csv\")"
   ]
  },
  {
   "cell_type": "code",
   "execution_count": 19,
   "metadata": {},
   "outputs": [
    {
     "data": {
      "image/png": "[encoded data removed]",
      "text/plain": [
       "<Figure size 432x288 with 1 Axes>"
      ]
     },
     "metadata": {
      "needs_background": "light"
     },
     "output_type": "display_data"
    }
   ],
   "source": [
    "# method 1 : QQ plot test\n",
    "stats.probplot(data[\"x\"], dist=\"norm\", plot=pylab)\n",
    "pylab.show()\n",
    "\n",
    "'''\n",
    "if all the data are near the red line, we can say the data is almost normal distribution\n",
    "'''"
   ]
  },
  {
   "cell_type": "code",
   "execution_count": 22,
   "metadata": {},
   "outputs": [
    {
     "name": "stdout",
     "output_type": "stream",
     "text": [
      "Shaprio-Wilk test statistic, W: 0.9990779757499695 \n",
      " P-value 2.251467049063649e-05\n"
     ]
    }
   ],
   "source": [
    "# method 2: (Shapiro-Wilk) test, sample size should <5000\n",
    "import scipy as sp\n",
    "import warnings\n",
    "warnings.filterwarnings(\"ignore\")\n",
    "\n",
    "W, p = sp.stats.shapiro(data[\"x\"])\n",
    "print(\"Shaprio-Wilk test statistic, W:\", W, \"\\n\", \"P-value\", p)\n",
    "'''\n",
    "if W is close to 1, and p is smaller than 0.05, we can say the data is almost normal distribution\n",
    "'''"
   ]
  },
  {
   "cell_type": "code",
   "execution_count": 25,
   "metadata": {},
   "outputs": [
    {
     "data": {
      "text/plain": [
       "Ks_2sampResult(statistic=0.03700000000000003, pvalue=0.1625225573987553)"
      ]
     },
     "execution_count": 25,
     "metadata": {},
     "output_type": "execute_result"
    }
   ],
   "source": [
    "# method 3: K-S test, there is no sample size limit\n",
    "'''\n",
    "K-S method not only tests normal distribion but also other distribution\n",
    "The requirement is we need to generate a similar distribution with sample\n",
    "We just use numpy to generate this data, which has the same mean and standard deviation\n",
    "'''\n",
    "nData = np.random.normal(data.mean(), data.std(), 1000) # if data is other distribution, you change 'normal'\n",
    "# stats.ks_2samp(data['x'], nData)\n",
    "# 2samp means 2 sample\n",
    "stats.ks_2samp(data['x'], nData.astype(int)) # because our data is int, the generated data should also be int\n",
    "\n",
    "'''\n",
    "if the return statistic is close to 0 (0.037 below is close to zero) and pvalue is biggher than 0.05, we \n",
    "can say the data is almost normal distribution\n",
    "'''"
   ]
  },
  {
   "cell_type": "markdown",
   "metadata": {},
   "source": [
    "## Change 'normal distribution' to 'standard  normal distribution' by using z score"
   ]
  },
  {
   "cell_type": "code",
   "execution_count": 26,
   "metadata": {},
   "outputs": [],
   "source": [
    "data = pd.read_csv(\"data3.csv\") # from above, we know this data is normal distribution"
   ]
  },
  {
   "cell_type": "code",
   "execution_count": 31,
   "metadata": {},
   "outputs": [
    {
     "data": {
      "image/png": "[encoded data removed]",
      "text/plain": [
       "<Figure size 432x288 with 1 Axes>"
      ]
     },
     "metadata": {
      "needs_background": "light"
     },
     "output_type": "display_data"
    }
   ],
   "source": [
    "# z score data from normal distribution data is standard normal distribution\n",
    "zScore = (data['x'] - data['x'].mean())/data['x'].std()\n",
    "\n",
    "zScore.mean() # mean is almost 0\n",
    "zScore.std() # std is almost 1\n",
    "\n",
    "plt.hist(zScore)\n",
    "plt.show()"
   ]
  },
  {
   "cell_type": "code",
   "execution_count": 32,
   "metadata": {},
   "outputs": [
    {
     "name": "stdout",
     "output_type": "stream",
     "text": [
      "w: 0.9991378784179688 \n",
      " pvalue: 4.807842560694553e-05\n"
     ]
    }
   ],
   "source": [
    "# check whether zScore is normal distribution\n",
    "import scipy\n",
    "w, p = scipy.stats.shapiro(zScore)\n",
    "print(\"w:\", w, \"\\n\", \"pvalue:\", p)"
   ]
  },
  {
   "cell_type": "markdown",
   "metadata": {},
   "source": [
    "## Project 2: according to population mean and standard deviation, calculate sample statistic\n",
    "### Student score is normal distribution, the mean is 517, and the standard deviation is 100\n",
    "#### Question 1: Student A score is higher/lower than 90% students, what is the student A's score\n",
    "#### Question 2: Student B's score is 415, how many proportion students have the similar score\n",
    "#### Question 3: Student C score is 600, how many proportion students' score is lower than C"
   ]
  },
  {
   "cell_type": "code",
   "execution_count": 33,
   "metadata": {},
   "outputs": [],
   "source": [
    "from scipy.stats import norm\n",
    "'''\n",
    "if the score is t distribution, you only need to change 'norm to 't'\n",
    "'''"
   ]
  },
  {
   "cell_type": "code",
   "execution_count": 35,
   "metadata": {},
   "outputs": [
    {
     "name": "stdout",
     "output_type": "stream",
     "text": [
      "645.1551565544601\n",
      "388.84484344553994\n"
     ]
    }
   ],
   "source": [
    "# Question 1: calculate the value in the exact proportion\n",
    "# loc specifies mean, scale specifies standard deviation\n",
    "print(norm.ppf(0.9, loc=517, scale=100)) # ppf: Percent point function\n",
    "\n",
    "print(norm.ppf(0.1, loc=517, scale=100))"
   ]
  },
  {
   "cell_type": "code",
   "execution_count": 36,
   "metadata": {},
   "outputs": [
    {
     "data": {
      "text/plain": [
       "0.0023713195201937962"
      ]
     },
     "execution_count": 36,
     "metadata": {},
     "output_type": "execute_result"
    }
   ],
   "source": [
    "# Question 2: calculate the proportion of near one value, this can be understood as probability of getting this score\n",
    "norm.pdf(415, loc=517, scale=100) # pdf: Probability density function function"
   ]
  },
  {
   "cell_type": "code",
   "execution_count": 37,
   "metadata": {},
   "outputs": [
    {
     "data": {
      "text/plain": [
       "0.7967306081719316"
      ]
     },
     "execution_count": 37,
     "metadata": {},
     "output_type": "execute_result"
    }
   ],
   "source": [
    "# Question 3: calculate the proportion position of one value\n",
    "norm.cdf(600, loc=517, scale=100) # cdf: cumulative distribution function"
   ]
  },
  {
   "cell_type": "markdown",
   "metadata": {},
   "source": [
    "## Project 3: according to sample statistic, calculate population mean and standard deviation\n",
    "### The time of turn on computer is normal distribution, we know 33 second, rank 5%; 43 second, rank 23%"
   ]
  },
  {
   "cell_type": "code",
   "execution_count": 39,
   "metadata": {},
   "outputs": [],
   "source": [
    "import numpy as np\n",
    "from scipy.stats import norm\n",
    "from scipy.linalg import solve"
   ]
  },
  {
   "cell_type": "code",
   "execution_count": 40,
   "metadata": {},
   "outputs": [],
   "source": [
    "# calculate z score of 5% and 23% from a standard normal distribution (mean=0, standard=1)\n",
    "z05_score = norm.ppf(0.05, loc=0, scale=1)\n",
    "z23_score = norm.ppf(0.23, loc=0, scale=1)\n",
    "# calculate population mean and standard deviation\n",
    "# z05_score = (33-mean)/std => we can get mean and std\n",
    "# z23_score = (43-mean)/std"
   ]
  },
  {
   "cell_type": "code",
   "execution_count": 42,
   "metadata": {},
   "outputs": [
    {
     "name": "stdout",
     "output_type": "stream",
     "text": [
      "[11.03744502 51.15498148]\n"
     ]
    }
   ],
   "source": [
    "# use python to calculate mean and std above\n",
    "a = np.array([[z05_score, 1],[z23_score, 1]])\n",
    "b = np.array([33, 43])\n",
    "r = solve(a, b)\n",
    "print(r) # 11.037 is std, 51.15 is mean"
   ]
  },
  {
   "cell_type": "code",
   "execution_count": 43,
   "metadata": {},
   "outputs": [
    {
     "name": "stdout",
     "output_type": "stream",
     "text": [
      "0.049999999999999975 0.22999999999999993\n"
     ]
    }
   ],
   "source": [
    "# rank verification, rank 5% and rank 23%?\n",
    "rank_33 = norm.cdf(33, loc=r[1], scale=r[0])\n",
    "rank_43 = norm.cdf(43, loc=r[1], scale=r[0])\n",
    "print(rank_33, rank_43)"
   ]
  },
  {
   "cell_type": "markdown",
   "metadata": {},
   "source": [
    "## Sampling distribution"
   ]
  },
  {
   "cell_type": "code",
   "execution_count": 44,
   "metadata": {},
   "outputs": [],
   "source": [
    "import pandas as pd\n",
    "import matplotlib.pyplot as plt"
   ]
  },
  {
   "cell_type": "code",
   "execution_count": 48,
   "metadata": {},
   "outputs": [
    {
     "data": {
      "text/html": [
       "<div>\n",
       "<style scoped>\n",
       "    .dataframe tbody tr th:only-of-type {\n",
       "        vertical-align: middle;\n",
       "    }\n",
       "\n",
       "    .dataframe tbody tr th {\n",
       "        vertical-align: top;\n",
       "    }\n",
       "\n",
       "    .dataframe thead th {\n",
       "        text-align: right;\n",
       "    }\n",
       "</style>\n",
       "<table border=\"1\" class=\"dataframe\">\n",
       "  <thead>\n",
       "    <tr style=\"text-align: right;\">\n",
       "      <th></th>\n",
       "      <th>id</th>\n",
       "      <th>price</th>\n",
       "    </tr>\n",
       "  </thead>\n",
       "  <tbody>\n",
       "    <tr>\n",
       "      <th>0</th>\n",
       "      <td>996961</td>\n",
       "      <td>2788</td>\n",
       "    </tr>\n",
       "    <tr>\n",
       "      <th>1</th>\n",
       "      <td>996967</td>\n",
       "      <td>2168</td>\n",
       "    </tr>\n",
       "    <tr>\n",
       "      <th>2</th>\n",
       "      <td>761145</td>\n",
       "      <td>1798</td>\n",
       "    </tr>\n",
       "  </tbody>\n",
       "</table>\n",
       "</div>"
      ],
      "text/plain": [
       "       id  price\n",
       "0  996961   2788\n",
       "1  996967   2168\n",
       "2  761145   1798"
      ]
     },
     "execution_count": 48,
     "metadata": {},
     "output_type": "execute_result"
    }
   ],
   "source": [
    "data = pd.read_csv(\"data4.csv\")\n",
    "data.head(3)"
   ]
  },
  {
   "cell_type": "code",
   "execution_count": 49,
   "metadata": {},
   "outputs": [
    {
     "data": {
      "image/png": "[encoded data removed]",
      "text/plain": [
       "<Figure size 432x288 with 1 Axes>"
      ]
     },
     "metadata": {
      "needs_background": "light"
     },
     "output_type": "display_data"
    }
   ],
   "source": [
    "plt.hist(data[\"price\"])\n",
    "plt.show() # we can see it is not normal distribution"
   ]
  },
  {
   "cell_type": "code",
   "execution_count": 50,
   "metadata": {},
   "outputs": [
    {
     "data": {
      "image/png": "[encoded data removed]",
      "text/plain": [
       "<Figure size 432x288 with 1 Axes>"
      ]
     },
     "metadata": {
      "needs_background": "light"
     },
     "output_type": "display_data"
    }
   ],
   "source": [
    "# sampling size n=30\n",
    "size = 30\n",
    "# times of sampling\n",
    "times = 1000\n",
    "# create empty list for storing sample\n",
    "sData_s = []\n",
    "# sampling from price\n",
    "for i in range(times):\n",
    "    sData = data['price'].sample(size)\n",
    "    sData_s.append(sData.mean())\n",
    "\n",
    "plt.hist(sData_s)\n",
    "plt.show() # mean distribution from sampling is normal distribution\n",
    "    "
   ]
  },
  {
   "cell_type": "code",
   "execution_count": 51,
   "metadata": {},
   "outputs": [
    {
     "data": {
      "text/plain": [
       "10.36665267295256"
      ]
     },
     "execution_count": 51,
     "metadata": {},
     "output_type": "execute_result"
    }
   ],
   "source": [
    "# calculate standard error\n",
    "import numpy as np\n",
    "np.std(sData_s)/np.sqrt(len(sData_s))"
   ]
  },
  {
   "cell_type": "markdown",
   "metadata": {},
   "source": [
    "### Verify whether the mean distribution is normal distribution or not"
   ]
  },
  {
   "cell_type": "code",
   "execution_count": 52,
   "metadata": {},
   "outputs": [
    {
     "data": {
      "image/png": "[encoded data removed]",
      "text/plain": [
       "<Figure size 432x288 with 1 Axes>"
      ]
     },
     "metadata": {
      "needs_background": "light"
     },
     "output_type": "display_data"
    }
   ],
   "source": [
    "# method 1: QQ plot\n",
    "stats.probplot(sData_s, dist=\"norm\", plot=pylab)\n",
    "pylab.show() # check whether most of data are near the red line, the answer is yes"
   ]
  },
  {
   "cell_type": "code",
   "execution_count": 53,
   "metadata": {},
   "outputs": [
    {
     "name": "stdout",
     "output_type": "stream",
     "text": [
      "Shapiro-Wilk test statistic, W 0.9903899431228638 \n",
      " pvalue 4.056435500388034e-06\n"
     ]
    }
   ],
   "source": [
    "# method 2: Shapiro-Wild test\n",
    "import scipy\n",
    "w, p = scipy.stats.shapiro(sData_s)\n",
    "# if w is close to 1 and p is smaller than 0.05, we can say data is almost normal distribution\n",
    "print(\"Shapiro-Wilk test statistic, W\", w, \"\\n\", \"pvalue\", p)"
   ]
  },
  {
   "cell_type": "code",
   "execution_count": 54,
   "metadata": {},
   "outputs": [
    {
     "data": {
      "text/plain": [
       "Ks_2sampResult(statistic=0.028999999999999998, pvalue=0.7887807460454156)"
      ]
     },
     "execution_count": 54,
     "metadata": {},
     "output_type": "execute_result"
    }
   ],
   "source": [
    "# method 3: K-S test\n",
    "nData = np.random.normal(np.mean(sData_s), np.std(sData_s), 1000)\n",
    "stats.ks_2samp(sData_s, nData) # statistic should clolse to 0, and pvalue should be bigger than 0.05"
   ]
  }
 ],
 "metadata": {
  "kernelspec": {
   "display_name": "Python 3",
   "language": "python",
   "name": "python3"
  },
  "language_info": {
   "codemirror_mode": {
    "name": "ipython",
    "version": 3
   },
   "file_extension": ".py",
   "mimetype": "text/x-python",
   "name": "python",
   "nbconvert_exporter": "python",
   "pygments_lexer": "ipython3",
   "version": "3.7.1"
  }
 },
 "nbformat": 4,
 "nbformat_minor": 2
}
