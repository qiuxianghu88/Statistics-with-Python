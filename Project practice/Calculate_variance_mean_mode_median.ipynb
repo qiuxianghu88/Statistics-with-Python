{
 "cells": [
  {
   "cell_type": "code",
   "execution_count": 48,
   "metadata": {},
   "outputs": [],
   "source": [
    "# codecs can set the read format with different language\n",
    "import codecs"
   ]
  },
  {
   "cell_type": "code",
   "execution_count": 49,
   "metadata": {},
   "outputs": [],
   "source": [
    "# read the file, 'r' means read, 'utf-8' is a Chinese coding\n",
    "file = codecs.open('SogouQ.mini', 'r', 'utf-8')"
   ]
  },
  {
   "cell_type": "markdown",
   "metadata": {},
   "source": [
    "### Calculate mean from file"
   ]
  },
  {
   "cell_type": "code",
   "execution_count": 50,
   "metadata": {},
   "outputs": [],
   "source": [
    "# we want to calculate the mean of column 5\n",
    "vSum = 0\n",
    "rowCount = 0\n",
    "line = file.readline() # one time only read one line\n",
    "while line:\n",
    "    cols = line.split(\"\\t\")\n",
    "    clickLocation = cols[4]\n",
    "    vSum = vSum+int(clickLocation)\n",
    "    line = file.readline() # read a new line\n",
    "    rowCount = rowCount + 1\n",
    "file.close()"
   ]
  },
  {
   "cell_type": "code",
   "execution_count": 51,
   "metadata": {},
   "outputs": [
    {
     "data": {
      "text/plain": [
       "1.4335"
      ]
     },
     "execution_count": 51,
     "metadata": {},
     "output_type": "execute_result"
    }
   ],
   "source": [
    "mean = vSum/rowCount\n",
    "mean"
   ]
  },
  {
   "cell_type": "markdown",
   "metadata": {},
   "source": [
    "### Calculate median from file"
   ]
  },
  {
   "cell_type": "code",
   "execution_count": 52,
   "metadata": {},
   "outputs": [],
   "source": [
    "file = codecs.open('SogouQ.mini', 'r', 'utf-8')"
   ]
  },
  {
   "cell_type": "code",
   "execution_count": 53,
   "metadata": {},
   "outputs": [],
   "source": [
    "# we want to calculate the median of column 5\n",
    "kv = dict() # create empty dictionary is not dict{}\n",
    "rowCount = 0\n",
    "line = file.readline() # one time only read one line\n",
    "while line:\n",
    "    cols = line.split(\"\\t\")\n",
    "    clickLocation = int(cols[4])\n",
    "    count = 0\n",
    "    if clickLocation in kv:\n",
    "        count=kv[clickLocation] # clickLocation is a variable, so it is not kv['clickLocation']\n",
    "    count=count+1\n",
    "    kv[clickLocation]=count\n",
    "    \n",
    "    rowCount = rowCount + 1\n",
    "    line = file.readline() # read a new line\n",
    "\n",
    "file.close()"
   ]
  },
  {
   "cell_type": "code",
   "execution_count": 54,
   "metadata": {},
   "outputs": [
    {
     "data": {
      "text/plain": [
       "{1: 1471, 2: 337, 3: 115, 4: 43, 5: 17, 6: 8, 7: 4, 8: 2, 9: 2, 10: 1}"
      ]
     },
     "execution_count": 54,
     "metadata": {},
     "output_type": "execute_result"
    }
   ],
   "source": [
    "kv"
   ]
  },
  {
   "cell_type": "code",
   "execution_count": 55,
   "metadata": {},
   "outputs": [
    {
     "data": {
      "image/png": "[encoded data removed]",
      "text/plain": [
       "<Figure size 432x288 with 1 Axes>"
      ]
     },
     "metadata": {
      "needs_background": "light"
     },
     "output_type": "display_data"
    }
   ],
   "source": [
    "import matplotlib.pyplot as plt\n",
    "plt.bar(kv.keys(), kv.values())\n",
    "plt.show()"
   ]
  },
  {
   "cell_type": "code",
   "execution_count": 56,
   "metadata": {},
   "outputs": [],
   "source": [
    "# sort the keys\n",
    "keys = sorted(kv.keys())"
   ]
  },
  {
   "cell_type": "code",
   "execution_count": 57,
   "metadata": {},
   "outputs": [
    {
     "data": {
      "text/plain": [
       "1.0"
      ]
     },
     "execution_count": 57,
     "metadata": {},
     "output_type": "execute_result"
    }
   ],
   "source": [
    "# maybe median position has two numbers\n",
    "index0 = 0\n",
    "index1 = 0\n",
    "value0 = 0\n",
    "value1 = 0\n",
    "vSum = 0\n",
    "if rowCount%2 == 1:\n",
    "    index0 = rowCount/2\n",
    "    index1 = rowCount/2\n",
    "else:\n",
    "    index0 = rowCount/2\n",
    "    index1 = rowCount/2 + 1\n",
    "for k in keys:\n",
    "    vSum = vSum + kv[k]\n",
    "    if vSum >= index0:\n",
    "        value0 = k\n",
    "    if vSum >= index1:\n",
    "        value1 = k\n",
    "        break\n",
    "median = (value0+value1)/2\n",
    "median"
   ]
  },
  {
   "cell_type": "markdown",
   "metadata": {},
   "source": [
    "### Calculate mode and range from file, mode is the most frequency number"
   ]
  },
  {
   "cell_type": "code",
   "execution_count": 58,
   "metadata": {},
   "outputs": [],
   "source": [
    "file = codecs.open('SogouQ.mini', 'r', 'utf-8')\n",
    "kv = dict() # create empty dictionary is not dict{}\n",
    "rowCount = 0\n",
    "line = file.readline() # one time only read one line\n",
    "while line:\n",
    "    cols = line.split(\"\\t\")\n",
    "    clickLocation = int(cols[4])\n",
    "    count = 0\n",
    "    if clickLocation in kv:\n",
    "        count=kv[clickLocation] # clickLocation is a variable, so it is not kv['clickLocation']\n",
    "    count=count+1\n",
    "    kv[clickLocation]=count\n",
    "    \n",
    "    rowCount = rowCount + 1\n",
    "    line = file.readline() # read a new line\n",
    "\n",
    "file.close()"
   ]
  },
  {
   "cell_type": "code",
   "execution_count": 59,
   "metadata": {},
   "outputs": [
    {
     "data": {
      "image/png": "[encoded data removed]",
      "text/plain": [
       "<Figure size 432x288 with 1 Axes>"
      ]
     },
     "metadata": {
      "needs_background": "light"
     },
     "output_type": "display_data"
    }
   ],
   "source": [
    "import matplotlib.pyplot as plt\n",
    "plt.bar(kv.keys(), kv.values())\n",
    "plt.show()"
   ]
  },
  {
   "cell_type": "code",
   "execution_count": 60,
   "metadata": {},
   "outputs": [
    {
     "data": {
      "text/plain": [
       "1"
      ]
     },
     "execution_count": 60,
     "metadata": {},
     "output_type": "execute_result"
    }
   ],
   "source": [
    "# get the key that has the max values\n",
    "max(kv, key=kv.get)"
   ]
  },
  {
   "cell_type": "code",
   "execution_count": 61,
   "metadata": {},
   "outputs": [
    {
     "data": {
      "text/plain": [
       "9"
      ]
     },
     "execution_count": 61,
     "metadata": {},
     "output_type": "execute_result"
    }
   ],
   "source": [
    "# calculate the range\n",
    "range_num = max(kv.keys()) - min(kv.keys())\n",
    "range_num"
   ]
  },
  {
   "cell_type": "markdown",
   "metadata": {},
   "source": [
    "### Calculate the variance"
   ]
  },
  {
   "cell_type": "code",
   "execution_count": 66,
   "metadata": {},
   "outputs": [],
   "source": [
    "# first calculate the mean\n",
    "file = codecs.open('SogouQ.mini', 'r', 'utf-8')\n",
    "vSum = 0\n",
    "rowCount = 0\n",
    "line = file.readline() # one time only read one line\n",
    "while line:\n",
    "    cols = line.split(\"\\t\")\n",
    "    clickLocation = cols[4]\n",
    "    vSum = vSum+int(clickLocation)\n",
    "    line = file.readline() # read a new line\n",
    "    rowCount = rowCount + 1\n",
    "file.close()"
   ]
  },
  {
   "cell_type": "code",
   "execution_count": 67,
   "metadata": {},
   "outputs": [],
   "source": [
    "# then calculate the variance\n",
    "mean = vSum/rowCount\n",
    "dSum = 0\n",
    "file = codecs.open('SogouQ.mini', 'r', 'utf-8')\n",
    "line = file.readline()\n",
    "while line:\n",
    "    cols = line.split(\"\\t\")\n",
    "    clickLocation = int(cols[4])\n",
    "    dSum = dSum + (clickLocation-mean)**2\n",
    "    line = file.readline()\n",
    "\n",
    "file.close()\n",
    "variance = dSum/rowCount # rowCount has been calculated above"
   ]
  },
  {
   "cell_type": "code",
   "execution_count": 68,
   "metadata": {},
   "outputs": [
    {
     "data": {
      "text/plain": [
       "0.86557774999999"
      ]
     },
     "execution_count": 68,
     "metadata": {},
     "output_type": "execute_result"
    }
   ],
   "source": [
    "variance"
   ]
  },
  {
   "cell_type": "code",
   "execution_count": 69,
   "metadata": {},
   "outputs": [
    {
     "data": {
      "text/plain": [
       "0.9303643103644884"
      ]
     },
     "execution_count": 69,
     "metadata": {},
     "output_type": "execute_result"
    }
   ],
   "source": [
    "# calculate the standard deviation\n",
    "sd = variance**0.5\n",
    "sd"
   ]
  },
  {
   "cell_type": "code",
   "execution_count": null,
   "metadata": {},
   "outputs": [],
   "source": []
  }
 ],
 "metadata": {
  "kernelspec": {
   "display_name": "Python 3",
   "language": "python",
   "name": "python3"
  },
  "language_info": {
   "codemirror_mode": {
    "name": "ipython",
    "version": 3
   },
   "file_extension": ".py",
   "mimetype": "text/x-python",
   "name": "python",
   "nbconvert_exporter": "python",
   "pygments_lexer": "ipython3",
   "version": "3.7.1"
  }
 },
 "nbformat": 4,
 "nbformat_minor": 2
}
